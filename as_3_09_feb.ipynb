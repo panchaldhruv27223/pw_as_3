{
 "cells": [
  {
   "cell_type": "markdown",
   "id": "88fff149",
   "metadata": {},
   "source": [
    "Q.1 Create a vehicle class with an init method having instance variables as name_of_vehicle, max_speedand average_of_vehicle."
   ]
  },
  {
   "cell_type": "code",
   "execution_count": 3,
   "id": "dba66207",
   "metadata": {},
   "outputs": [],
   "source": [
    "class vehicle:\n",
    "    def __init__(self,name,speed,average):\n",
    "        self.name_of_vehicle = name\n",
    "        self.max_speed = speed\n",
    "        self.average_of_vehicle = average\n",
    "        \n",
    "v1 = vehicle(\"volvo\",134,12)"
   ]
  },
  {
   "cell_type": "code",
   "execution_count": 5,
   "id": "e3b0a3c8",
   "metadata": {},
   "outputs": [
    {
     "name": "stdout",
     "output_type": "stream",
     "text": [
      "12\n",
      "134\n",
      "volvo\n"
     ]
    }
   ],
   "source": [
    "print(v1.average_of_vehicle)\n",
    "print(v1.max_speed)\n",
    "print(v1.name_of_vehicle)"
   ]
  },
  {
   "cell_type": "markdown",
   "id": "397cf029",
   "metadata": {},
   "source": [
    "Q2. Create a child class car from the vehicle class created in Que 1, which will inherit the vehicle class.\n",
    "Create a method named seating_capacity which takes capacity as an argument and returns the name of\n",
    "the vehicle and its seating capacity."
   ]
  },
  {
   "cell_type": "code",
   "execution_count": 15,
   "id": "7853dd84",
   "metadata": {},
   "outputs": [],
   "source": [
    "class car(vehicle):\n",
    "    def seating_capacity(self ,cap):\n",
    "        self.capacity = cap\n",
    "        return(self.name_of_vehicle , self.capacity)"
   ]
  },
  {
   "cell_type": "code",
   "execution_count": 16,
   "id": "2a44fe8c",
   "metadata": {},
   "outputs": [],
   "source": [
    "v2 = car(\"RR\", 150,11)"
   ]
  },
  {
   "cell_type": "code",
   "execution_count": 17,
   "id": "6087439e",
   "metadata": {},
   "outputs": [
    {
     "data": {
      "text/plain": [
       "('RR', 7)"
      ]
     },
     "execution_count": 17,
     "metadata": {},
     "output_type": "execute_result"
    }
   ],
   "source": [
    "v2.seating_capacity(7)"
   ]
  },
  {
   "cell_type": "code",
   "execution_count": 18,
   "id": "f74fb51f",
   "metadata": {},
   "outputs": [
    {
     "data": {
      "text/plain": [
       "('lambo', 5)"
      ]
     },
     "execution_count": 18,
     "metadata": {},
     "output_type": "execute_result"
    }
   ],
   "source": [
    "v3 = car(\"lambo\",160,10)\n",
    "v3.seating_capacity(5)"
   ]
  },
  {
   "cell_type": "markdown",
   "id": "4baa74f8",
   "metadata": {},
   "source": [
    "Q3. What is multiple inheritance? Write a python code to demonstrate multiple inheritance."
   ]
  },
  {
   "cell_type": "code",
   "execution_count": null,
   "id": "4d116a9a",
   "metadata": {},
   "outputs": [],
   "source": [
    "ans : \n",
    "    in multiple inheritance a derived class is derived from more then one base class.\n",
    "    it take feature of all the base class.\n"
   ]
  },
  {
   "cell_type": "code",
   "execution_count": 27,
   "id": "17132267",
   "metadata": {},
   "outputs": [],
   "source": [
    "class birds():\n",
    "    def __init__(self):\n",
    "        print(\"i am bird \")\n",
    "    def name(self,name):\n",
    "        self.name = name\n",
    "        print(self.name)\n",
    "\n",
    "class fly():\n",
    "    def fl(self):\n",
    "        print(\"i can fly\")\n",
    "\n",
    "class bird_can_fly(birds,fly):\n",
    "    def __init__(self):\n",
    "        print(\"i am birds and i can fly\")"
   ]
  },
  {
   "cell_type": "code",
   "execution_count": 28,
   "id": "83c2311e",
   "metadata": {},
   "outputs": [
    {
     "name": "stdout",
     "output_type": "stream",
     "text": [
      "i am birds and i can fly\n"
     ]
    }
   ],
   "source": [
    "b1 = bird_can_fly()"
   ]
  },
  {
   "cell_type": "code",
   "execution_count": 29,
   "id": "9cbf6c90",
   "metadata": {},
   "outputs": [
    {
     "name": "stdout",
     "output_type": "stream",
     "text": [
      "i can fly\n"
     ]
    }
   ],
   "source": [
    "b1.fl()"
   ]
  },
  {
   "cell_type": "code",
   "execution_count": 30,
   "id": "f60a0ba5",
   "metadata": {},
   "outputs": [
    {
     "name": "stdout",
     "output_type": "stream",
     "text": [
      "eagle\n"
     ]
    }
   ],
   "source": [
    "b1.name(\"eagle\")"
   ]
  },
  {
   "cell_type": "code",
   "execution_count": null,
   "id": "9031034f",
   "metadata": {},
   "outputs": [],
   "source": [
    "bird_can_fly class is derived class and it derived from birds and fly base class"
   ]
  },
  {
   "cell_type": "markdown",
   "id": "191bb867",
   "metadata": {},
   "source": [
    "Q4. What are getter and setter in python? Create a class and create a getter and a setter method in this\n",
    "class."
   ]
  },
  {
   "cell_type": "code",
   "execution_count": 40,
   "id": "7356d5fc",
   "metadata": {},
   "outputs": [],
   "source": [
    "#  getter and setter used in python to get and set the protected variable. \n",
    "#  In python protected variable can not accessable to the external user."
   ]
  },
  {
   "cell_type": "code",
   "execution_count": 41,
   "id": "7a41f203",
   "metadata": {},
   "outputs": [],
   "source": [
    "class demo:\n",
    "    def __init__(self,name,score):\n",
    "        self.__name = name\n",
    "        self.__score = score\n",
    "        \n",
    "    @property\n",
    "    def get_score(self):\n",
    "        return self.__score\n",
    "    \n",
    "    @get_score.setter\n",
    "    def set_score(self,x):\n",
    "        self.__score = x if x>0 else self.__score "
   ]
  },
  {
   "cell_type": "code",
   "execution_count": 42,
   "id": "6685a9cc",
   "metadata": {},
   "outputs": [],
   "source": [
    "c1 = demo(\"name\",5)"
   ]
  },
  {
   "cell_type": "code",
   "execution_count": 43,
   "id": "d3722fbf",
   "metadata": {},
   "outputs": [
    {
     "data": {
      "text/plain": [
       "5"
      ]
     },
     "execution_count": 43,
     "metadata": {},
     "output_type": "execute_result"
    }
   ],
   "source": [
    "c1.get_score"
   ]
  },
  {
   "cell_type": "code",
   "execution_count": 44,
   "id": "08d945a3",
   "metadata": {},
   "outputs": [],
   "source": [
    "c1.set_score=9"
   ]
  },
  {
   "cell_type": "code",
   "execution_count": 45,
   "id": "379e4f8b",
   "metadata": {},
   "outputs": [
    {
     "data": {
      "text/plain": [
       "9"
      ]
     },
     "execution_count": 45,
     "metadata": {},
     "output_type": "execute_result"
    }
   ],
   "source": [
    "c1.get_score"
   ]
  },
  {
   "cell_type": "code",
   "execution_count": 46,
   "id": "e4438cd1",
   "metadata": {},
   "outputs": [],
   "source": [
    "c1.set_score=-2"
   ]
  },
  {
   "cell_type": "code",
   "execution_count": 47,
   "id": "3ba4de21",
   "metadata": {},
   "outputs": [
    {
     "data": {
      "text/plain": [
       "9"
      ]
     },
     "execution_count": 47,
     "metadata": {},
     "output_type": "execute_result"
    }
   ],
   "source": [
    "c1.get_score"
   ]
  },
  {
   "cell_type": "code",
   "execution_count": 48,
   "id": "d9581cc9",
   "metadata": {},
   "outputs": [],
   "source": [
    "c1.set_score=4"
   ]
  },
  {
   "cell_type": "code",
   "execution_count": 49,
   "id": "d01314f5",
   "metadata": {},
   "outputs": [
    {
     "data": {
      "text/plain": [
       "4"
      ]
     },
     "execution_count": 49,
     "metadata": {},
     "output_type": "execute_result"
    }
   ],
   "source": [
    "c1.get_score"
   ]
  },
  {
   "cell_type": "markdown",
   "id": "7ecb69d5",
   "metadata": {},
   "source": [
    "Q5.What is method overriding in python? Write a python code to demonstrate method overriding."
   ]
  },
  {
   "cell_type": "code",
   "execution_count": 50,
   "id": "ab8c33a3",
   "metadata": {},
   "outputs": [],
   "source": [
    "# method overriding in python means chid class have a methos that have same method name ,same parameters , same signature \n",
    "# of its parent class method then we can say parent class method is overriding in chid class \n"
   ]
  },
  {
   "cell_type": "code",
   "execution_count": 51,
   "id": "62611630",
   "metadata": {},
   "outputs": [],
   "source": [
    "class parent():\n",
    "    def __init__(self):\n",
    "        print(\"i am parent class init\")\n",
    "        \n",
    "    def m1(self):\n",
    "        print(\"i am parent class method 1\")\n",
    "        \n",
    "class child(parent):\n",
    "    def __init__(self):\n",
    "        print(\"i am child class init\")\n",
    "        \n",
    "    def m1(self):\n",
    "        print(\"i am child class method 1\")\n",
    "        "
   ]
  },
  {
   "cell_type": "code",
   "execution_count": 53,
   "id": "c112cc12",
   "metadata": {},
   "outputs": [
    {
     "name": "stdout",
     "output_type": "stream",
     "text": [
      "i am parent class init\n",
      "i am child class init\n"
     ]
    }
   ],
   "source": [
    "p1 = parent()\n",
    "c1 = child()"
   ]
  },
  {
   "cell_type": "code",
   "execution_count": 54,
   "id": "1e0495a1",
   "metadata": {},
   "outputs": [
    {
     "name": "stdout",
     "output_type": "stream",
     "text": [
      "i am parent class method 1\n",
      "i am child class method 1\n"
     ]
    }
   ],
   "source": [
    "p1.m1()\n",
    "c1.m1()"
   ]
  },
  {
   "cell_type": "code",
   "execution_count": null,
   "id": "b724523a",
   "metadata": {},
   "outputs": [],
   "source": [
    "both init and method are overriding "
   ]
  }
 ],
 "metadata": {
  "kernelspec": {
   "display_name": "Python 3 (ipykernel)",
   "language": "python",
   "name": "python3"
  },
  "language_info": {
   "codemirror_mode": {
    "name": "ipython",
    "version": 3
   },
   "file_extension": ".py",
   "mimetype": "text/x-python",
   "name": "python",
   "nbconvert_exporter": "python",
   "pygments_lexer": "ipython3",
   "version": "3.9.7"
  }
 },
 "nbformat": 4,
 "nbformat_minor": 5
}
